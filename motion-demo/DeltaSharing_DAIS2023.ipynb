{
 "cells": [
  {
   "cell_type": "markdown",
   "metadata": {
    "application/vnd.databricks.v1+cell": {
     "cellMetadata": {},
     "inputWidgets": {},
     "nuid": "f6dbca77-fc17-4a1c-8f72-5f413f215530",
     "showTitle": false,
     "title": ""
    },
    "colab_type": "text",
    "id": "view-in-github"
   },
   "source": [
    "<a href=\"https://colab.research.google.com/github/fmunz/motion/blob/master/DeltaSharing_DAIS2023.ipynb\" target=\"_parent\"><img src=\"https://colab.research.google.com/assets/colab-badge.svg\" alt=\"Open In Colab\"/></a>"
   ]
  },
  {
   "cell_type": "code",
   "execution_count": 0,
   "metadata": {
    "application/vnd.databricks.v1+cell": {
     "cellMetadata": {},
     "inputWidgets": {},
     "nuid": "bdf2233b-d285-40ca-a432-d22e5288b218",
     "showTitle": false,
     "title": ""
    },
    "colab": {
     "base_uri": "https://localhost:8080/"
    },
    "id": "6XZTURsAIUPR",
    "outputId": "a0c2c69f-f76c-41f8-b55a-a3990da97122"
   },
   "outputs": [],
   "source": [
    "!pip install delta-sharing"
   ]
  },
  {
   "cell_type": "code",
   "execution_count": 0,
   "metadata": {
    "application/vnd.databricks.v1+cell": {
     "cellMetadata": {},
     "inputWidgets": {},
     "nuid": "5b6b9a1e-2e94-4663-aa40-556b67b07bb2",
     "showTitle": false,
     "title": ""
    },
    "colab": {
     "base_uri": "https://localhost:8080/"
    },
    "id": "Fqhd7Uf_bRG1",
    "outputId": "b9eb17ac-6eb1-4e44-9865-1c89db07fca7"
   },
   "outputs": [],
   "source": [
    "! cat configdais.share"
   ]
  },
  {
   "cell_type": "code",
   "execution_count": 0,
   "metadata": {
    "application/vnd.databricks.v1+cell": {
     "cellMetadata": {},
     "inputWidgets": {},
     "nuid": "64569e6d-0a94-4c70-a7e0-1d61c141cc8a",
     "showTitle": false,
     "title": ""
    },
    "colab": {
     "base_uri": "https://localhost:8080/"
    },
    "id": "b0Gj5_07Icda",
    "outputId": "b676257c-82cd-480c-e8c4-a22676f20530"
   },
   "outputs": [],
   "source": [
    "import delta_sharing\n",
    "import pandas as pd\n",
    "\n",
    "# Point to the profile file, location also works with http(s)\n",
    "profile_file = \"configdais.share\"\n",
    "\n",
    "# Create a SharingClient.\n",
    "client = delta_sharing.SharingClient(profile_file)\n",
    "\n",
    "\n",
    "# List all shared tables.\n",
    "print(client.list_all_tables())\n"
   ]
  },
  {
   "cell_type": "code",
   "execution_count": 0,
   "metadata": {
    "application/vnd.databricks.v1+cell": {
     "cellMetadata": {},
     "inputWidgets": {},
     "nuid": "40b3abcc-b96c-42a8-8430-27eb5254d255",
     "showTitle": false,
     "title": ""
    },
    "id": "0Nb-iGf0JOD0"
   },
   "outputs": [],
   "source": [
    "# load data as pandas dataframe (or Spark)\n",
    "table_url = profile_file + \"#frank_share.motion.myshare\"\n",
    "pt = delta_sharing.load_as_pandas(table_url)\n",
    "\n",
    "pt=pt.sort_values(by=['mm'])"
   ]
  },
  {
   "cell_type": "code",
   "execution_count": 0,
   "metadata": {
    "application/vnd.databricks.v1+cell": {
     "cellMetadata": {},
     "inputWidgets": {},
     "nuid": "48d47312-b032-477b-9b49-8ad7b2281f09",
     "showTitle": false,
     "title": ""
    },
    "colab": {
     "base_uri": "https://localhost:8080/",
     "height": 542
    },
    "id": "Ilj3m63UUQHD",
    "outputId": "43349937-a6df-40db-c05a-03bdb683e40a"
   },
   "outputs": [],
   "source": [
    "import plotly.express as px\n",
    "\n",
    "fig = px.bar(pt, y='device', x='mm', orientation='h', color='mm', color_continuous_scale='rainbow')\n",
    "fig.show()\n"
   ]
  }
 ],
 "metadata": {
  "application/vnd.databricks.v1+notebook": {
   "dashboards": [],
   "language": "python",
   "notebookMetadata": {},
   "notebookName": "DeltaSharing_DAIS2023",
   "widgets": {}
  },
  "colab": {
   "include_colab_link": true,
   "provenance": []
  },
  "kernelspec": {
   "display_name": "Python 3",
   "name": "python3"
  },
  "language_info": {
   "name": "python"
  }
 },
 "nbformat": 4,
 "nbformat_minor": 0
}
